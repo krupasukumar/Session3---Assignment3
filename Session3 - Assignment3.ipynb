{
 "cells": [
  {
   "cell_type": "markdown",
   "metadata": {},
   "source": [
    "Implement a function longestWord() that takes a list of words and returns the longest one."
   ]
  },
  {
   "cell_type": "code",
   "execution_count": 9,
   "metadata": {},
   "outputs": [
    {
     "name": "stdout",
     "output_type": "stream",
     "text": [
      "Longest word from the defined list is: ABCDEFGHIJKLMNOPQRSTUVWXYZ\n"
     ]
    }
   ],
   "source": [
    "def longestWord(list_of_words):\n",
    "    word_length = []\n",
    "    for n in list_of_words:\n",
    "        word_length.append((len(n),n))\n",
    "    word_length.sort()\n",
    "    return word_length[-1][1]\n",
    "print(\"Longest word from the defined list is: \"+longestWord([\"ACADGILD\",\"KRUPA SUKUMAR\",\"INSTITUTE\",\"ABCDEFGHIJKLMNOPQRSTUVWXYZ\"]))"
   ]
  },
  {
   "cell_type": "code",
   "execution_count": null,
   "metadata": {},
   "outputs": [],
   "source": []
  }
 ],
 "metadata": {
  "kernelspec": {
   "display_name": "Python 3",
   "language": "python",
   "name": "python3"
  },
  "language_info": {
   "codemirror_mode": {
    "name": "ipython",
    "version": 3
   },
   "file_extension": ".py",
   "mimetype": "text/x-python",
   "name": "python",
   "nbconvert_exporter": "python",
   "pygments_lexer": "ipython3",
   "version": "3.6.5"
  }
 },
 "nbformat": 4,
 "nbformat_minor": 2
}
